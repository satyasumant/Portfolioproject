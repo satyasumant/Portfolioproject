{
 "cells": [
  {
   "cell_type": "markdown",
   "id": "a0644429",
   "metadata": {},
   "source": [
    "# Importing Libraries and dataset"
   ]
  },
  {
   "cell_type": "code",
   "execution_count": 1,
   "id": "2fa51a38",
   "metadata": {},
   "outputs": [],
   "source": [
    "import pandas as pd\n",
    "import seaborn as sns\n",
    "import matplotlib.pyplot as plt\n",
    "%matplotlib inline"
   ]
  },
  {
   "cell_type": "code",
   "execution_count": 2,
   "id": "8931b197",
   "metadata": {},
   "outputs": [
    {
     "data": {
      "text/html": [
       "<div>\n",
       "<style scoped>\n",
       "    .dataframe tbody tr th:only-of-type {\n",
       "        vertical-align: middle;\n",
       "    }\n",
       "\n",
       "    .dataframe tbody tr th {\n",
       "        vertical-align: top;\n",
       "    }\n",
       "\n",
       "    .dataframe thead th {\n",
       "        text-align: right;\n",
       "    }\n",
       "</style>\n",
       "<table border=\"1\" class=\"dataframe\">\n",
       "  <thead>\n",
       "    <tr style=\"text-align: right;\">\n",
       "      <th></th>\n",
       "      <th>Brand Name</th>\n",
       "      <th>Device Type</th>\n",
       "      <th>Model Name</th>\n",
       "      <th>Color</th>\n",
       "      <th>Selling Price</th>\n",
       "      <th>Original Price</th>\n",
       "      <th>Display</th>\n",
       "      <th>Rating</th>\n",
       "      <th>Strap Material</th>\n",
       "      <th>Average Battery Life</th>\n",
       "      <th>Reviews</th>\n",
       "    </tr>\n",
       "  </thead>\n",
       "  <tbody>\n",
       "    <tr>\n",
       "      <th>0</th>\n",
       "      <td>Xiaomi</td>\n",
       "      <td>FitnessBand</td>\n",
       "      <td>Smart Band 5</td>\n",
       "      <td>Black</td>\n",
       "      <td>2499</td>\n",
       "      <td>2999</td>\n",
       "      <td>AMOLED Display</td>\n",
       "      <td>4.1</td>\n",
       "      <td>Thermoplastic polyurethane</td>\n",
       "      <td>14</td>\n",
       "      <td>NaN</td>\n",
       "    </tr>\n",
       "    <tr>\n",
       "      <th>1</th>\n",
       "      <td>Xiaomi</td>\n",
       "      <td>FitnessBand</td>\n",
       "      <td>Smart Band 4</td>\n",
       "      <td>Black</td>\n",
       "      <td>2099</td>\n",
       "      <td>2499</td>\n",
       "      <td>AMOLED Display</td>\n",
       "      <td>4.2</td>\n",
       "      <td>Thermoplastic polyurethane</td>\n",
       "      <td>14</td>\n",
       "      <td>NaN</td>\n",
       "    </tr>\n",
       "    <tr>\n",
       "      <th>2</th>\n",
       "      <td>Xiaomi</td>\n",
       "      <td>FitnessBand</td>\n",
       "      <td>HMSH01GE</td>\n",
       "      <td>Black</td>\n",
       "      <td>1722</td>\n",
       "      <td>2099</td>\n",
       "      <td>LCD Display</td>\n",
       "      <td>3.5</td>\n",
       "      <td>Leather</td>\n",
       "      <td>14</td>\n",
       "      <td>NaN</td>\n",
       "    </tr>\n",
       "    <tr>\n",
       "      <th>3</th>\n",
       "      <td>Xiaomi</td>\n",
       "      <td>FitnessBand</td>\n",
       "      <td>Smart Band 5</td>\n",
       "      <td>Black</td>\n",
       "      <td>2469</td>\n",
       "      <td>2999</td>\n",
       "      <td>AMOLED Display</td>\n",
       "      <td>4.1</td>\n",
       "      <td>Thermoplastic polyurethane</td>\n",
       "      <td>14</td>\n",
       "      <td>NaN</td>\n",
       "    </tr>\n",
       "    <tr>\n",
       "      <th>4</th>\n",
       "      <td>Xiaomi</td>\n",
       "      <td>FitnessBand</td>\n",
       "      <td>Band 3</td>\n",
       "      <td>Black</td>\n",
       "      <td>1799</td>\n",
       "      <td>2199</td>\n",
       "      <td>OLED Display</td>\n",
       "      <td>4.3</td>\n",
       "      <td>Plastic</td>\n",
       "      <td>7</td>\n",
       "      <td>NaN</td>\n",
       "    </tr>\n",
       "  </tbody>\n",
       "</table>\n",
       "</div>"
      ],
      "text/plain": [
       "  Brand Name  Device Type    Model Name  Color  Selling Price  Original Price  \\\n",
       "0     Xiaomi  FitnessBand  Smart Band 5  Black           2499            2999   \n",
       "1     Xiaomi  FitnessBand  Smart Band 4  Black           2099            2499   \n",
       "2     Xiaomi  FitnessBand      HMSH01GE  Black           1722            2099   \n",
       "3     Xiaomi  FitnessBand  Smart Band 5  Black           2469            2999   \n",
       "4     Xiaomi  FitnessBand        Band 3  Black           1799            2199   \n",
       "\n",
       "          Display  Rating              Strap Material  Average Battery Life   \\\n",
       "0  AMOLED Display     4.1  Thermoplastic polyurethane                     14   \n",
       "1  AMOLED Display     4.2  Thermoplastic polyurethane                     14   \n",
       "2     LCD Display     3.5                     Leather                     14   \n",
       "3  AMOLED Display     4.1  Thermoplastic polyurethane                     14   \n",
       "4    OLED Display     4.3                     Plastic                      7   \n",
       "\n",
       "   Reviews  \n",
       "0      NaN  \n",
       "1      NaN  \n",
       "2      NaN  \n",
       "3      NaN  \n",
       "4      NaN  "
      ]
     },
     "execution_count": 2,
     "metadata": {},
     "output_type": "execute_result"
    }
   ],
   "source": [
    "data=pd.read_csv(r\"C:\\Users\\nvsba\\Downloads\\fitnesstrackers.csv\")\n",
    "data.head() #top 5 records"
   ]
  },
  {
   "cell_type": "code",
   "execution_count": 3,
   "id": "a4bf299e",
   "metadata": {},
   "outputs": [
    {
     "data": {
      "text/html": [
       "<div>\n",
       "<style scoped>\n",
       "    .dataframe tbody tr th:only-of-type {\n",
       "        vertical-align: middle;\n",
       "    }\n",
       "\n",
       "    .dataframe tbody tr th {\n",
       "        vertical-align: top;\n",
       "    }\n",
       "\n",
       "    .dataframe thead th {\n",
       "        text-align: right;\n",
       "    }\n",
       "</style>\n",
       "<table border=\"1\" class=\"dataframe\">\n",
       "  <thead>\n",
       "    <tr style=\"text-align: right;\">\n",
       "      <th></th>\n",
       "      <th>Brand Name</th>\n",
       "      <th>Device Type</th>\n",
       "      <th>Model Name</th>\n",
       "      <th>Color</th>\n",
       "      <th>Selling Price</th>\n",
       "      <th>Original Price</th>\n",
       "      <th>Display</th>\n",
       "      <th>Rating</th>\n",
       "      <th>Strap Material</th>\n",
       "      <th>Average Battery Life</th>\n",
       "      <th>Reviews</th>\n",
       "    </tr>\n",
       "  </thead>\n",
       "  <tbody>\n",
       "    <tr>\n",
       "      <th>560</th>\n",
       "      <td>Huawei</td>\n",
       "      <td>Smartwatch</td>\n",
       "      <td>Watch 36456</td>\n",
       "      <td>Black</td>\n",
       "      <td>55000</td>\n",
       "      <td>55000</td>\n",
       "      <td>AMOLED Display</td>\n",
       "      <td>4.1</td>\n",
       "      <td>Silicone</td>\n",
       "      <td>14</td>\n",
       "      <td>NaN</td>\n",
       "    </tr>\n",
       "    <tr>\n",
       "      <th>561</th>\n",
       "      <td>Huawei</td>\n",
       "      <td>Smartwatch</td>\n",
       "      <td>GT Fortuna-B19S Sport</td>\n",
       "      <td>Black</td>\n",
       "      <td>13990</td>\n",
       "      <td>20990</td>\n",
       "      <td>AMOLED Display</td>\n",
       "      <td>4.1</td>\n",
       "      <td>Elastomer</td>\n",
       "      <td>14</td>\n",
       "      <td>NaN</td>\n",
       "    </tr>\n",
       "    <tr>\n",
       "      <th>562</th>\n",
       "      <td>GOQii</td>\n",
       "      <td>FitnessBand</td>\n",
       "      <td>HR</td>\n",
       "      <td>Black</td>\n",
       "      <td>1999</td>\n",
       "      <td>1999</td>\n",
       "      <td>OLED Display</td>\n",
       "      <td>3.8</td>\n",
       "      <td>Silicone</td>\n",
       "      <td>7</td>\n",
       "      <td>NaN</td>\n",
       "    </tr>\n",
       "    <tr>\n",
       "      <th>563</th>\n",
       "      <td>GOQii</td>\n",
       "      <td>FitnessBand</td>\n",
       "      <td>Vital</td>\n",
       "      <td>Black</td>\n",
       "      <td>3499</td>\n",
       "      <td>3499</td>\n",
       "      <td>OLED Display</td>\n",
       "      <td>3.7</td>\n",
       "      <td>Thermoplastic polyurethane</td>\n",
       "      <td>7</td>\n",
       "      <td>NaN</td>\n",
       "    </tr>\n",
       "    <tr>\n",
       "      <th>564</th>\n",
       "      <td>FOSSIL</td>\n",
       "      <td>Smartwatch</td>\n",
       "      <td>Gen 5E</td>\n",
       "      <td>Grey, Multicolor</td>\n",
       "      <td>18495</td>\n",
       "      <td>18495</td>\n",
       "      <td>AMOLED Display</td>\n",
       "      <td>4.2</td>\n",
       "      <td>Stainless Steel</td>\n",
       "      <td>1</td>\n",
       "      <td>NaN</td>\n",
       "    </tr>\n",
       "  </tbody>\n",
       "</table>\n",
       "</div>"
      ],
      "text/plain": [
       "    Brand Name  Device Type             Model Name             Color  \\\n",
       "560     Huawei   Smartwatch            Watch 36456             Black   \n",
       "561     Huawei   Smartwatch  GT Fortuna-B19S Sport             Black   \n",
       "562      GOQii  FitnessBand                     HR             Black   \n",
       "563      GOQii  FitnessBand                  Vital             Black   \n",
       "564    FOSSIL    Smartwatch                 Gen 5E  Grey, Multicolor   \n",
       "\n",
       "     Selling Price  Original Price         Display  Rating  \\\n",
       "560          55000           55000  AMOLED Display     4.1   \n",
       "561          13990           20990  AMOLED Display     4.1   \n",
       "562           1999            1999    OLED Display     3.8   \n",
       "563           3499            3499    OLED Display     3.7   \n",
       "564          18495           18495  AMOLED Display     4.2   \n",
       "\n",
       "                 Strap Material  Average Battery Life   Reviews  \n",
       "560                    Silicone                     14      NaN  \n",
       "561                   Elastomer                     14      NaN  \n",
       "562                    Silicone                      7      NaN  \n",
       "563  Thermoplastic polyurethane                      7      NaN  \n",
       "564             Stainless Steel                      1      NaN  "
      ]
     },
     "execution_count": 3,
     "metadata": {},
     "output_type": "execute_result"
    }
   ],
   "source": [
    "data.tail() #bottom 5 records"
   ]
  },
  {
   "cell_type": "markdown",
   "id": "5825b543",
   "metadata": {},
   "source": [
    "# Checking the datatype of each column"
   ]
  },
  {
   "cell_type": "code",
   "execution_count": 4,
   "id": "bbb8d970",
   "metadata": {},
   "outputs": [
    {
     "data": {
      "text/plain": [
       "Brand Name                object\n",
       "Device Type               object\n",
       "Model Name                object\n",
       "Color                     object\n",
       "Selling Price              int64\n",
       "Original Price             int64\n",
       "Display                   object\n",
       "Rating                   float64\n",
       "Strap Material            object\n",
       "Average Battery Life       int64\n",
       "Reviews                  float64\n",
       "dtype: object"
      ]
     },
     "execution_count": 4,
     "metadata": {},
     "output_type": "execute_result"
    }
   ],
   "source": [
    "data.dtypes"
   ]
  },
  {
   "cell_type": "code",
   "execution_count": 5,
   "id": "e1ae28c4",
   "metadata": {},
   "outputs": [
    {
     "data": {
      "text/plain": [
       "6215"
      ]
     },
     "execution_count": 5,
     "metadata": {},
     "output_type": "execute_result"
    }
   ],
   "source": [
    "data.size #total records"
   ]
  },
  {
   "cell_type": "code",
   "execution_count": 6,
   "id": "4e42478a",
   "metadata": {},
   "outputs": [
    {
     "name": "stdout",
     "output_type": "stream",
     "text": [
      "<class 'pandas.core.frame.DataFrame'>\n",
      "RangeIndex: 565 entries, 0 to 564\n",
      "Data columns (total 11 columns):\n",
      " #   Column                 Non-Null Count  Dtype  \n",
      "---  ------                 --------------  -----  \n",
      " 0   Brand Name             565 non-null    object \n",
      " 1   Device Type            565 non-null    object \n",
      " 2   Model Name             565 non-null    object \n",
      " 3   Color                  565 non-null    object \n",
      " 4   Selling Price          565 non-null    int64  \n",
      " 5   Original Price         565 non-null    int64  \n",
      " 6   Display                565 non-null    object \n",
      " 7   Rating                 514 non-null    float64\n",
      " 8   Strap Material         565 non-null    object \n",
      " 9   Average Battery Life   565 non-null    int64  \n",
      " 10  Reviews                78 non-null     float64\n",
      "dtypes: float64(2), int64(3), object(6)\n",
      "memory usage: 48.7+ KB\n"
     ]
    }
   ],
   "source": [
    "data.info()"
   ]
  },
  {
   "cell_type": "markdown",
   "id": "aee898be",
   "metadata": {},
   "source": [
    "# Checking for duplicates"
   ]
  },
  {
   "cell_type": "code",
   "execution_count": 7,
   "id": "2910b1fe",
   "metadata": {},
   "outputs": [
    {
     "data": {
      "text/plain": [
       "True"
      ]
     },
     "execution_count": 7,
     "metadata": {},
     "output_type": "execute_result"
    }
   ],
   "source": [
    "data.duplicated().any()"
   ]
  },
  {
   "cell_type": "code",
   "execution_count": 8,
   "id": "3108dd45",
   "metadata": {},
   "outputs": [
    {
     "data": {
      "text/html": [
       "<div>\n",
       "<style scoped>\n",
       "    .dataframe tbody tr th:only-of-type {\n",
       "        vertical-align: middle;\n",
       "    }\n",
       "\n",
       "    .dataframe tbody tr th {\n",
       "        vertical-align: top;\n",
       "    }\n",
       "\n",
       "    .dataframe thead th {\n",
       "        text-align: right;\n",
       "    }\n",
       "</style>\n",
       "<table border=\"1\" class=\"dataframe\">\n",
       "  <thead>\n",
       "    <tr style=\"text-align: right;\">\n",
       "      <th></th>\n",
       "      <th>Brand Name</th>\n",
       "      <th>Device Type</th>\n",
       "      <th>Model Name</th>\n",
       "      <th>Color</th>\n",
       "      <th>Selling Price</th>\n",
       "      <th>Original Price</th>\n",
       "      <th>Display</th>\n",
       "      <th>Rating</th>\n",
       "      <th>Strap Material</th>\n",
       "      <th>Average Battery Life</th>\n",
       "      <th>Reviews</th>\n",
       "    </tr>\n",
       "  </thead>\n",
       "  <tbody>\n",
       "    <tr>\n",
       "      <th>50</th>\n",
       "      <td>FitBit</td>\n",
       "      <td>Smartwatch</td>\n",
       "      <td>Versa 3</td>\n",
       "      <td>Black, Blue, Pink</td>\n",
       "      <td>17999</td>\n",
       "      <td>18999</td>\n",
       "      <td>AMOLED Display</td>\n",
       "      <td>4.3</td>\n",
       "      <td>Elastomer</td>\n",
       "      <td>7</td>\n",
       "      <td>NaN</td>\n",
       "    </tr>\n",
       "    <tr>\n",
       "      <th>383</th>\n",
       "      <td>APPLE</td>\n",
       "      <td>Smartwatch</td>\n",
       "      <td>Series 6 GPS + Cellular 40 mm Red Aluminium Case</td>\n",
       "      <td>Red</td>\n",
       "      <td>45690</td>\n",
       "      <td>49900</td>\n",
       "      <td>OLED Retina Display</td>\n",
       "      <td>4.5</td>\n",
       "      <td>Aluminium</td>\n",
       "      <td>1</td>\n",
       "      <td>NaN</td>\n",
       "    </tr>\n",
       "    <tr>\n",
       "      <th>391</th>\n",
       "      <td>APPLE</td>\n",
       "      <td>Smartwatch</td>\n",
       "      <td>Series 6 GPS 44 mm Blue Aluminium Case</td>\n",
       "      <td>Deep Navy</td>\n",
       "      <td>43900</td>\n",
       "      <td>43900</td>\n",
       "      <td>OLED Retina Display</td>\n",
       "      <td>4.5</td>\n",
       "      <td>Aluminium</td>\n",
       "      <td>1</td>\n",
       "      <td>NaN</td>\n",
       "    </tr>\n",
       "    <tr>\n",
       "      <th>512</th>\n",
       "      <td>GARMIN</td>\n",
       "      <td>Smartwatch</td>\n",
       "      <td>Vivomove 3S</td>\n",
       "      <td>Black</td>\n",
       "      <td>19990</td>\n",
       "      <td>25990</td>\n",
       "      <td>AMOLED Display</td>\n",
       "      <td>NaN</td>\n",
       "      <td>Silicone</td>\n",
       "      <td>14</td>\n",
       "      <td>NaN</td>\n",
       "    </tr>\n",
       "  </tbody>\n",
       "</table>\n",
       "</div>"
      ],
      "text/plain": [
       "    Brand Name Device Type                                        Model Name  \\\n",
       "50      FitBit  Smartwatch                                           Versa 3   \n",
       "383      APPLE  Smartwatch  Series 6 GPS + Cellular 40 mm Red Aluminium Case   \n",
       "391      APPLE  Smartwatch            Series 6 GPS 44 mm Blue Aluminium Case   \n",
       "512    GARMIN   Smartwatch                                       Vivomove 3S   \n",
       "\n",
       "                 Color  Selling Price  Original Price              Display  \\\n",
       "50   Black, Blue, Pink          17999           18999       AMOLED Display   \n",
       "383                Red          45690           49900  OLED Retina Display   \n",
       "391          Deep Navy          43900           43900  OLED Retina Display   \n",
       "512              Black          19990           25990       AMOLED Display   \n",
       "\n",
       "     Rating Strap Material  Average Battery Life   Reviews  \n",
       "50      4.3      Elastomer                      7      NaN  \n",
       "383     4.5      Aluminium                      1      NaN  \n",
       "391     4.5      Aluminium                      1      NaN  \n",
       "512     NaN       Silicone                     14      NaN  "
      ]
     },
     "execution_count": 8,
     "metadata": {},
     "output_type": "execute_result"
    }
   ],
   "source": [
    "data[data.duplicated()]"
   ]
  },
  {
   "cell_type": "code",
   "execution_count": 9,
   "id": "382e66b1",
   "metadata": {},
   "outputs": [],
   "source": [
    "data.drop_duplicates(inplace=True)"
   ]
  },
  {
   "cell_type": "code",
   "execution_count": 10,
   "id": "49c510c4",
   "metadata": {},
   "outputs": [
    {
     "data": {
      "text/plain": [
       "False"
      ]
     },
     "execution_count": 10,
     "metadata": {},
     "output_type": "execute_result"
    }
   ],
   "source": [
    "data.duplicated().any()"
   ]
  },
  {
   "cell_type": "code",
   "execution_count": 11,
   "id": "4cf14c65",
   "metadata": {},
   "outputs": [
    {
     "data": {
      "text/plain": [
       "Brand Name                 0\n",
       "Device Type                0\n",
       "Model Name                 0\n",
       "Color                      0\n",
       "Selling Price              0\n",
       "Original Price             0\n",
       "Display                    0\n",
       "Rating                    50\n",
       "Strap Material             0\n",
       "Average Battery Life       0\n",
       "Reviews                  483\n",
       "dtype: int64"
      ]
     },
     "execution_count": 11,
     "metadata": {},
     "output_type": "execute_result"
    }
   ],
   "source": [
    "#duplicates have been removed\n",
    "data.isnull().sum()"
   ]
  },
  {
   "cell_type": "code",
   "execution_count": 12,
   "id": "a1ba5544",
   "metadata": {},
   "outputs": [],
   "source": [
    "#as there are null values in few columns we will be using them rarely\n",
    "#using seaborn to visualize it"
   ]
  },
  {
   "cell_type": "code",
   "execution_count": 13,
   "id": "a0289090",
   "metadata": {},
   "outputs": [
    {
     "data": {
      "image/png": "[encoded data removed]",
      "text/plain": [
       "<Figure size 432x288 with 2 Axes>"
      ]
     },
     "metadata": {
      "needs_background": "light"
     },
     "output_type": "display_data"
    }
   ],
   "source": [
    "sns.heatmap(data.isnull())\n",
    "plt.show()"
   ]
  },
  {
   "cell_type": "markdown",
   "id": "c32631ad",
   "metadata": {},
   "source": [
    "# Demand for fitness trackers"
   ]
  },
  {
   "cell_type": "code",
   "execution_count": 15,
   "id": "5268b384",
   "metadata": {},
   "outputs": [
    {
     "data": {
      "text/plain": [
       "Device Type\n",
       "Smartwatch     486\n",
       "FitnessBand     75\n",
       "dtype: int64"
      ]
     },
     "execution_count": 15,
     "metadata": {},
     "output_type": "execute_result"
    }
   ],
   "source": [
    "data.value_counts(\"Device Type\")"
   ]
  },
  {
   "cell_type": "code",
   "execution_count": 16,
   "id": "52ed6915",
   "metadata": {},
   "outputs": [
    {
     "data": {
      "image/png": "[encoded data removed]",
      "text/plain": [
       "<Figure size 432x288 with 1 Axes>"
      ]
     },
     "metadata": {},
     "output_type": "display_data"
    }
   ],
   "source": [
    "Labels = 'Smartwatch', 'Fitnessband'\n",
    "Size = [486,75]\n",
    "plt.axis(\"equal\")\n",
    "plt.pie(Size,labels=Labels,autopct='%1.1f%%')\n",
    "plt.show()"
   ]
  },
  {
   "cell_type": "markdown",
   "id": "d8e8e67c",
   "metadata": {},
   "source": [
    "# Number of companies in the market"
   ]
  },
  {
   "cell_type": "code",
   "execution_count": 17,
   "id": "780621a6",
   "metadata": {},
   "outputs": [
    {
     "data": {
      "text/plain": [
       "Brand Name\n",
       "FOSSIL      133\n",
       "GARMIN      100\n",
       "APPLE        84\n",
       "FitBit       50\n",
       "SAMSUNG      48\n",
       "huami        36\n",
       "Huawei       26\n",
       "Honor        20\n",
       "Noise        17\n",
       "realme       12\n",
       "Xiaomi       10\n",
       "Fastrack      6\n",
       "GOQii         4\n",
       "boAt          4\n",
       "OnePlus       3\n",
       "Noise         2\n",
       "Oppo          2\n",
       "LCARE         2\n",
       "LAVA          1\n",
       "Infinix       1\n",
       "dtype: int64"
      ]
     },
     "execution_count": 17,
     "metadata": {},
     "output_type": "execute_result"
    }
   ],
   "source": [
    "data.value_counts(\"Brand Name\")"
   ]
  },
  {
   "cell_type": "code",
   "execution_count": 18,
   "id": "1e3769e2",
   "metadata": {},
   "outputs": [
    {
     "data": {
      "text/plain": [
       "20"
      ]
     },
     "execution_count": 18,
     "metadata": {},
     "output_type": "execute_result"
    }
   ],
   "source": [
    "data[\"Brand Name\"].nunique()"
   ]
  },
  {
   "cell_type": "code",
   "execution_count": 19,
   "id": "6517b967",
   "metadata": {},
   "outputs": [],
   "source": [
    "#There are alot of brands with many models, this shows the demand of the product"
   ]
  },
  {
   "cell_type": "markdown",
   "id": "554c0f06",
   "metadata": {},
   "source": [
    "# Top 5 brands in the market"
   ]
  },
  {
   "cell_type": "code",
   "execution_count": 20,
   "id": "5f23dfe0",
   "metadata": {},
   "outputs": [
    {
     "data": {
      "text/plain": [
       "Brand Name\n",
       "FOSSIL      133\n",
       "GARMIN      100\n",
       "APPLE        84\n",
       "FitBit       50\n",
       "SAMSUNG      48\n",
       "dtype: int64"
      ]
     },
     "execution_count": 20,
     "metadata": {},
     "output_type": "execute_result"
    }
   ],
   "source": [
    "data.value_counts('Brand Name').sort_values(ascending=False).iloc[:5]"
   ]
  },
  {
   "cell_type": "code",
   "execution_count": 21,
   "id": "46774cb6",
   "metadata": {},
   "outputs": [
    {
     "data": {
      "text/plain": [
       "<AxesSubplot:xlabel='count', ylabel='Brand Name'>"
      ]
     },
     "execution_count": 21,
     "metadata": {},
     "output_type": "execute_result"
    },
    {
     "data": {
      "image/png": "[encoded data removed]",
      "text/plain": [
       "<Figure size 432x288 with 1 Axes>"
      ]
     },
     "metadata": {
      "needs_background": "light"
     },
     "output_type": "display_data"
    }
   ],
   "source": [
    "sns.countplot(y='Brand Name',data=data,hue=\"Device Type\",\n",
    "order=data.value_counts(\"Brand Name\").iloc[:5].index)"
   ]
  },
  {
   "cell_type": "code",
   "execution_count": 22,
   "id": "161e0284",
   "metadata": {},
   "outputs": [],
   "source": [
    "#These are the top 5 brands offering most fitness trackers."
   ]
  },
  {
   "cell_type": "code",
   "execution_count": 23,
   "id": "2a83dac7",
   "metadata": {},
   "outputs": [
    {
     "data": {
      "text/html": [
       "<div>\n",
       "<style scoped>\n",
       "    .dataframe tbody tr th:only-of-type {\n",
       "        vertical-align: middle;\n",
       "    }\n",
       "\n",
       "    .dataframe tbody tr th {\n",
       "        vertical-align: top;\n",
       "    }\n",
       "\n",
       "    .dataframe thead th {\n",
       "        text-align: right;\n",
       "    }\n",
       "</style>\n",
       "<table border=\"1\" class=\"dataframe\">\n",
       "  <thead>\n",
       "    <tr style=\"text-align: right;\">\n",
       "      <th></th>\n",
       "      <th>Selling Price</th>\n",
       "      <th>Original Price</th>\n",
       "      <th>Rating</th>\n",
       "      <th>Average Battery Life</th>\n",
       "      <th>Reviews</th>\n",
       "    </tr>\n",
       "  </thead>\n",
       "  <tbody>\n",
       "    <tr>\n",
       "      <th>count</th>\n",
       "      <td>561.000000</td>\n",
       "      <td>561.000000</td>\n",
       "      <td>511.000000</td>\n",
       "      <td>561.000000</td>\n",
       "      <td>78.000000</td>\n",
       "    </tr>\n",
       "    <tr>\n",
       "      <th>mean</th>\n",
       "      <td>22040.609626</td>\n",
       "      <td>25298.823529</td>\n",
       "      <td>4.228767</td>\n",
       "      <td>9.049911</td>\n",
       "      <td>2492.948718</td>\n",
       "    </tr>\n",
       "    <tr>\n",
       "      <th>std</th>\n",
       "      <td>19938.740901</td>\n",
       "      <td>20413.492592</td>\n",
       "      <td>0.391596</td>\n",
       "      <td>7.878837</td>\n",
       "      <td>5607.529743</td>\n",
       "    </tr>\n",
       "    <tr>\n",
       "      <th>min</th>\n",
       "      <td>1195.000000</td>\n",
       "      <td>1599.000000</td>\n",
       "      <td>2.000000</td>\n",
       "      <td>1.000000</td>\n",
       "      <td>2.000000</td>\n",
       "    </tr>\n",
       "    <tr>\n",
       "      <th>25%</th>\n",
       "      <td>8990.000000</td>\n",
       "      <td>12999.000000</td>\n",
       "      <td>4.000000</td>\n",
       "      <td>2.000000</td>\n",
       "      <td>107.750000</td>\n",
       "    </tr>\n",
       "    <tr>\n",
       "      <th>50%</th>\n",
       "      <td>15995.000000</td>\n",
       "      <td>19995.000000</td>\n",
       "      <td>4.300000</td>\n",
       "      <td>7.000000</td>\n",
       "      <td>346.000000</td>\n",
       "    </tr>\n",
       "    <tr>\n",
       "      <th>75%</th>\n",
       "      <td>29900.000000</td>\n",
       "      <td>32900.000000</td>\n",
       "      <td>4.500000</td>\n",
       "      <td>14.000000</td>\n",
       "      <td>1580.750000</td>\n",
       "    </tr>\n",
       "    <tr>\n",
       "      <th>max</th>\n",
       "      <td>122090.000000</td>\n",
       "      <td>122090.000000</td>\n",
       "      <td>5.000000</td>\n",
       "      <td>45.000000</td>\n",
       "      <td>23426.000000</td>\n",
       "    </tr>\n",
       "  </tbody>\n",
       "</table>\n",
       "</div>"
      ],
      "text/plain": [
       "       Selling Price  Original Price      Rating  Average Battery Life   \\\n",
       "count     561.000000      561.000000  511.000000             561.000000   \n",
       "mean    22040.609626    25298.823529    4.228767               9.049911   \n",
       "std     19938.740901    20413.492592    0.391596               7.878837   \n",
       "min      1195.000000     1599.000000    2.000000               1.000000   \n",
       "25%      8990.000000    12999.000000    4.000000               2.000000   \n",
       "50%     15995.000000    19995.000000    4.300000               7.000000   \n",
       "75%     29900.000000    32900.000000    4.500000              14.000000   \n",
       "max    122090.000000   122090.000000    5.000000              45.000000   \n",
       "\n",
       "            Reviews  \n",
       "count     78.000000  \n",
       "mean    2492.948718  \n",
       "std     5607.529743  \n",
       "min        2.000000  \n",
       "25%      107.750000  \n",
       "50%      346.000000  \n",
       "75%     1580.750000  \n",
       "max    23426.000000  "
      ]
     },
     "execution_count": 23,
     "metadata": {},
     "output_type": "execute_result"
    }
   ],
   "source": [
    "data.describe()"
   ]
  },
  {
   "cell_type": "code",
   "execution_count": 24,
   "id": "33f3caf8",
   "metadata": {},
   "outputs": [],
   "source": [
    "#need to fill NA values or it will show wrong info"
   ]
  },
  {
   "cell_type": "markdown",
   "id": "85b15d81",
   "metadata": {},
   "source": [
    "# Average rating of each brand"
   ]
  },
  {
   "cell_type": "code",
   "execution_count": 26,
   "id": "eb559a29",
   "metadata": {
    "scrolled": true
   },
   "outputs": [
    {
     "data": {
      "text/plain": [
       "Brand Name\n",
       "APPLE       4.546429\n",
       "OnePlus     4.300000\n",
       "FOSSIL      4.244361\n",
       "SAMSUNG     4.229167\n",
       "Honor       4.195000\n",
       "FitBit      4.184000\n",
       "Xiaomi      4.170000\n",
       "Huawei      4.161538\n",
       "huami       4.152778\n",
       "realme      4.141667\n",
       "Name: Rating, dtype: float64"
      ]
     },
     "execution_count": 26,
     "metadata": {},
     "output_type": "execute_result"
    }
   ],
   "source": [
    "data.groupby('Brand Name')['Rating'].mean().sort_values(ascending=False).iloc[:10]"
   ]
  },
  {
   "cell_type": "markdown",
   "id": "2ac1ae8b",
   "metadata": {},
   "source": [
    "# Strap materials mostly used"
   ]
  },
  {
   "cell_type": "code",
   "execution_count": 28,
   "id": "3e07ff7f",
   "metadata": {},
   "outputs": [
    {
     "data": {
      "text/plain": [
       "Strap Material\n",
       "Silicone                      231\n",
       "Stainless Steel                97\n",
       "Leather                        59\n",
       "Aluminium                      55\n",
       "Elastomer                      44\n",
       "Thermoplastic polyurethane     33\n",
       "Plastic                        16\n",
       "Nylon                          12\n",
       "Rubber                         11\n",
       "Fabric                          1\n",
       "Name: Strap Material, dtype: int64"
      ]
     },
     "execution_count": 28,
     "metadata": {},
     "output_type": "execute_result"
    }
   ],
   "source": [
    "data['Strap Material'].groupby(data['Strap Material']).count().sort_values(ascending=False).iloc[:10]"
   ]
  },
  {
   "cell_type": "markdown",
   "id": "4bed05a4",
   "metadata": {},
   "source": [
    "# At what price most of the products are being sold"
   ]
  },
  {
   "cell_type": "code",
   "execution_count": 31,
   "id": "6e3d1500",
   "metadata": {},
   "outputs": [
    {
     "data": {
      "text/plain": [
       "<seaborn.axisgrid.FacetGrid at 0x160edab6d60>"
      ]
     },
     "execution_count": 31,
     "metadata": {},
     "output_type": "execute_result"
    },
    {
     "data": {
      "image/png": "[encoded data removed]",
      "text/plain": [
       "<Figure size 360x360 with 1 Axes>"
      ]
     },
     "metadata": {},
     "output_type": "display_data"
    }
   ],
   "source": [
    "sns.set_style(\"white\")\n",
    "sns.displot(data, x='Selling Price',bins=[5000,10000,20000,30000,40000,50000])"
   ]
  },
  {
   "cell_type": "markdown",
   "id": "e1d2cab6",
   "metadata": {},
   "source": [
    "# Project by Satya sumant"
   ]
  },
  {
   "cell_type": "code",
   "execution_count": null,
   "id": "8fc9e794",
   "metadata": {},
   "outputs": [],
   "source": []
  }
 ],
 "metadata": {
  "kernelspec": {
   "display_name": "Python 3",
   "language": "python",
   "name": "python3"
  },
  "language_info": {
   "codemirror_mode": {
    "name": "ipython",
    "version": 3
   },
   "file_extension": ".py",
   "mimetype": "text/x-python",
   "name": "python",
   "nbconvert_exporter": "python",
   "pygments_lexer": "ipython3",
   "version": "3.8.8"
  }
 },
 "nbformat": 4,
 "nbformat_minor": 5
}
