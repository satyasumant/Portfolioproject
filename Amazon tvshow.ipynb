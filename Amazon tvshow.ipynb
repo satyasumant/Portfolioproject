{
 "cells": [
  {
   "cell_type": "markdown",
   "id": "f9b3bd88",
   "metadata": {},
   "source": [
    "# Importing libraries and dataset for analysis"
   ]
  },
  {
   "cell_type": "code",
   "execution_count": 1,
   "id": "d59a8b25",
   "metadata": {},
   "outputs": [],
   "source": [
    "import pandas as pd\n",
    "import matplotlib.pyplot as plt\n",
    "import seaborn as sns\n",
    "%matplotlib inline"
   ]
  },
  {
   "cell_type": "code",
   "execution_count": 2,
   "id": "aef2340b",
   "metadata": {},
   "outputs": [
    {
     "data": {
      "text/html": [
       "<div>\n",
       "<style scoped>\n",
       "    .dataframe tbody tr th:only-of-type {\n",
       "        vertical-align: middle;\n",
       "    }\n",
       "\n",
       "    .dataframe tbody tr th {\n",
       "        vertical-align: top;\n",
       "    }\n",
       "\n",
       "    .dataframe thead th {\n",
       "        text-align: right;\n",
       "    }\n",
       "</style>\n",
       "<table border=\"1\" class=\"dataframe\">\n",
       "  <thead>\n",
       "    <tr style=\"text-align: right;\">\n",
       "      <th></th>\n",
       "      <th>S.no.</th>\n",
       "      <th>Name of the show</th>\n",
       "      <th>Year of release</th>\n",
       "      <th>No of seasons available</th>\n",
       "      <th>Language</th>\n",
       "      <th>Genre</th>\n",
       "      <th>IMDb rating</th>\n",
       "      <th>Age of viewers</th>\n",
       "    </tr>\n",
       "  </thead>\n",
       "  <tbody>\n",
       "    <tr>\n",
       "      <th>0</th>\n",
       "      <td>1</td>\n",
       "      <td>Pataal Lok</td>\n",
       "      <td>2020</td>\n",
       "      <td>1</td>\n",
       "      <td>Hindi</td>\n",
       "      <td>Drama</td>\n",
       "      <td>7.5</td>\n",
       "      <td>18+</td>\n",
       "    </tr>\n",
       "    <tr>\n",
       "      <th>1</th>\n",
       "      <td>2</td>\n",
       "      <td>Upload</td>\n",
       "      <td>2020</td>\n",
       "      <td>1</td>\n",
       "      <td>English</td>\n",
       "      <td>Sci-fi comedy</td>\n",
       "      <td>8.1</td>\n",
       "      <td>16+</td>\n",
       "    </tr>\n",
       "    <tr>\n",
       "      <th>2</th>\n",
       "      <td>3</td>\n",
       "      <td>The Marvelous Mrs. Maisel</td>\n",
       "      <td>2017</td>\n",
       "      <td>3</td>\n",
       "      <td>English</td>\n",
       "      <td>Drama, Comedy</td>\n",
       "      <td>8.7</td>\n",
       "      <td>16+</td>\n",
       "    </tr>\n",
       "    <tr>\n",
       "      <th>3</th>\n",
       "      <td>4</td>\n",
       "      <td>Four More Shots Please</td>\n",
       "      <td>2019</td>\n",
       "      <td>2</td>\n",
       "      <td>Hindi</td>\n",
       "      <td>Drama, Comedy</td>\n",
       "      <td>5.3</td>\n",
       "      <td>18+</td>\n",
       "    </tr>\n",
       "    <tr>\n",
       "      <th>4</th>\n",
       "      <td>5</td>\n",
       "      <td>Fleabag</td>\n",
       "      <td>2016</td>\n",
       "      <td>2</td>\n",
       "      <td>English</td>\n",
       "      <td>Comedy</td>\n",
       "      <td>8.7</td>\n",
       "      <td>18+</td>\n",
       "    </tr>\n",
       "  </tbody>\n",
       "</table>\n",
       "</div>"
      ],
      "text/plain": [
       "   S.no.           Name of the show  Year of release  No of seasons available  \\\n",
       "0      1                 Pataal Lok             2020                        1   \n",
       "1      2                     Upload             2020                        1   \n",
       "2      3  The Marvelous Mrs. Maisel             2017                        3   \n",
       "3      4     Four More Shots Please             2019                        2   \n",
       "4      5                    Fleabag             2016                        2   \n",
       "\n",
       "  Language          Genre  IMDb rating Age of viewers  \n",
       "0    Hindi          Drama          7.5            18+  \n",
       "1  English  Sci-fi comedy          8.1            16+  \n",
       "2  English  Drama, Comedy          8.7            16+  \n",
       "3    Hindi  Drama, Comedy          5.3            18+  \n",
       "4  English         Comedy          8.7            18+  "
      ]
     },
     "execution_count": 2,
     "metadata": {},
     "output_type": "execute_result"
    }
   ],
   "source": [
    "amazon = pd.read_csv(r\"C:\\Users\\nvsba\\Desktop\\Amazontvshow.csv\")\n",
    "amazon.head() #top 5 records"
   ]
  },
  {
   "cell_type": "code",
   "execution_count": 3,
   "id": "03606b89",
   "metadata": {},
   "outputs": [
    {
     "data": {
      "text/html": [
       "<div>\n",
       "<style scoped>\n",
       "    .dataframe tbody tr th:only-of-type {\n",
       "        vertical-align: middle;\n",
       "    }\n",
       "\n",
       "    .dataframe tbody tr th {\n",
       "        vertical-align: top;\n",
       "    }\n",
       "\n",
       "    .dataframe thead th {\n",
       "        text-align: right;\n",
       "    }\n",
       "</style>\n",
       "<table border=\"1\" class=\"dataframe\">\n",
       "  <thead>\n",
       "    <tr style=\"text-align: right;\">\n",
       "      <th></th>\n",
       "      <th>S.no.</th>\n",
       "      <th>Name of the show</th>\n",
       "      <th>Year of release</th>\n",
       "      <th>No of seasons available</th>\n",
       "      <th>Language</th>\n",
       "      <th>Genre</th>\n",
       "      <th>IMDb rating</th>\n",
       "      <th>Age of viewers</th>\n",
       "    </tr>\n",
       "  </thead>\n",
       "  <tbody>\n",
       "    <tr>\n",
       "      <th>401</th>\n",
       "      <td>350</td>\n",
       "      <td>Tom Walker: Very Very</td>\n",
       "      <td>2020</td>\n",
       "      <td>1</td>\n",
       "      <td>English</td>\n",
       "      <td>Comedy</td>\n",
       "      <td>NaN</td>\n",
       "      <td>16+</td>\n",
       "    </tr>\n",
       "    <tr>\n",
       "      <th>402</th>\n",
       "      <td>351</td>\n",
       "      <td>Jayde Adams: Serious Black Jumper</td>\n",
       "      <td>2020</td>\n",
       "      <td>1</td>\n",
       "      <td>English</td>\n",
       "      <td>Comedy</td>\n",
       "      <td>6.9</td>\n",
       "      <td>16+</td>\n",
       "    </tr>\n",
       "    <tr>\n",
       "      <th>403</th>\n",
       "      <td>352</td>\n",
       "      <td>Crisis in Six Scenes</td>\n",
       "      <td>2016</td>\n",
       "      <td>1</td>\n",
       "      <td>English</td>\n",
       "      <td>Comedy</td>\n",
       "      <td>6.6</td>\n",
       "      <td>18+</td>\n",
       "    </tr>\n",
       "    <tr>\n",
       "      <th>404</th>\n",
       "      <td>353</td>\n",
       "      <td>Alonzo Bodden: Heavy Lightweight</td>\n",
       "      <td>2019</td>\n",
       "      <td>1</td>\n",
       "      <td>English</td>\n",
       "      <td>Comedy</td>\n",
       "      <td>5.6</td>\n",
       "      <td>16+</td>\n",
       "    </tr>\n",
       "    <tr>\n",
       "      <th>405</th>\n",
       "      <td>354</td>\n",
       "      <td>Chris Ramsey: Approval Needed</td>\n",
       "      <td>2019</td>\n",
       "      <td>1</td>\n",
       "      <td>English</td>\n",
       "      <td>Arts, Entertainment, Culture</td>\n",
       "      <td>7.2</td>\n",
       "      <td>16+</td>\n",
       "    </tr>\n",
       "  </tbody>\n",
       "</table>\n",
       "</div>"
      ],
      "text/plain": [
       "     S.no.                   Name of the show  Year of release  \\\n",
       "401    350              Tom Walker: Very Very             2020   \n",
       "402    351  Jayde Adams: Serious Black Jumper             2020   \n",
       "403    352               Crisis in Six Scenes             2016   \n",
       "404    353   Alonzo Bodden: Heavy Lightweight             2019   \n",
       "405    354      Chris Ramsey: Approval Needed             2019   \n",
       "\n",
       "     No of seasons available Language                         Genre  \\\n",
       "401                        1  English                        Comedy   \n",
       "402                        1  English                        Comedy   \n",
       "403                        1  English                        Comedy   \n",
       "404                        1  English                        Comedy   \n",
       "405                        1  English  Arts, Entertainment, Culture   \n",
       "\n",
       "     IMDb rating Age of viewers  \n",
       "401          NaN            16+  \n",
       "402          6.9            16+  \n",
       "403          6.6            18+  \n",
       "404          5.6            16+  \n",
       "405          7.2            16+  "
      ]
     },
     "execution_count": 3,
     "metadata": {},
     "output_type": "execute_result"
    }
   ],
   "source": [
    "amazon.tail() #last 5 records"
   ]
  },
  {
   "cell_type": "code",
   "execution_count": 4,
   "id": "7f78ba4a",
   "metadata": {},
   "outputs": [
    {
     "data": {
      "text/plain": [
       "(406, 8)"
      ]
     },
     "execution_count": 4,
     "metadata": {},
     "output_type": "execute_result"
    }
   ],
   "source": [
    "amazon.shape #Rows and columns"
   ]
  },
  {
   "cell_type": "code",
   "execution_count": 5,
   "id": "b30ef205",
   "metadata": {},
   "outputs": [
    {
     "data": {
      "text/plain": [
       "S.no.                      406\n",
       "Name of the show           406\n",
       "Year of release            406\n",
       "No of seasons available    406\n",
       "Language                   406\n",
       "Genre                      406\n",
       "IMDb rating                190\n",
       "Age of viewers             406\n",
       "dtype: int64"
      ]
     },
     "execution_count": 5,
     "metadata": {},
     "output_type": "execute_result"
    }
   ],
   "source": [
    "amazon.count() "
   ]
  },
  {
   "cell_type": "code",
   "execution_count": 6,
   "id": "ecf443e7",
   "metadata": {},
   "outputs": [
    {
     "data": {
      "text/plain": [
       "S.no.                        int64\n",
       "Name of the show            object\n",
       "Year of release              int64\n",
       "No of seasons available      int64\n",
       "Language                    object\n",
       "Genre                       object\n",
       "IMDb rating                float64\n",
       "Age of viewers              object\n",
       "dtype: object"
      ]
     },
     "execution_count": 6,
     "metadata": {},
     "output_type": "execute_result"
    }
   ],
   "source": [
    "amazon.dtypes #checking data type of each column"
   ]
  },
  {
   "cell_type": "code",
   "execution_count": 7,
   "id": "c4b7e870",
   "metadata": {},
   "outputs": [
    {
     "data": {
      "text/plain": [
       "S.no.                        0\n",
       "Name of the show             0\n",
       "Year of release              0\n",
       "No of seasons available      0\n",
       "Language                     0\n",
       "Genre                        0\n",
       "IMDb rating                216\n",
       "Age of viewers               0\n",
       "dtype: int64"
      ]
     },
     "execution_count": 7,
     "metadata": {},
     "output_type": "execute_result"
    }
   ],
   "source": [
    "amazon.isnull().sum() #Null values"
   ]
  },
  {
   "cell_type": "code",
   "execution_count": 8,
   "id": "f5490ca0",
   "metadata": {},
   "outputs": [
    {
     "data": {
      "text/plain": [
       "3248"
      ]
     },
     "execution_count": 8,
     "metadata": {},
     "output_type": "execute_result"
    }
   ],
   "source": [
    "amazon.size #total records"
   ]
  },
  {
   "cell_type": "code",
   "execution_count": 9,
   "id": "4bdb13f7",
   "metadata": {},
   "outputs": [
    {
     "name": "stdout",
     "output_type": "stream",
     "text": [
      "<class 'pandas.core.frame.DataFrame'>\n",
      "RangeIndex: 406 entries, 0 to 405\n",
      "Data columns (total 8 columns):\n",
      " #   Column                   Non-Null Count  Dtype  \n",
      "---  ------                   --------------  -----  \n",
      " 0   S.no.                    406 non-null    int64  \n",
      " 1   Name of the show         406 non-null    object \n",
      " 2   Year of release          406 non-null    int64  \n",
      " 3   No of seasons available  406 non-null    int64  \n",
      " 4   Language                 406 non-null    object \n",
      " 5   Genre                    406 non-null    object \n",
      " 6   IMDb rating              190 non-null    float64\n",
      " 7   Age of viewers           406 non-null    object \n",
      "dtypes: float64(1), int64(3), object(4)\n",
      "memory usage: 25.5+ KB\n"
     ]
    }
   ],
   "source": [
    "amazon.info() #overall info of the data"
   ]
  },
  {
   "cell_type": "markdown",
   "id": "7b76a69b",
   "metadata": {},
   "source": [
    "# Checking for duplicate values"
   ]
  },
  {
   "cell_type": "code",
   "execution_count": 10,
   "id": "aaa4bcdb",
   "metadata": {},
   "outputs": [
    {
     "data": {
      "text/html": [
       "<div>\n",
       "<style scoped>\n",
       "    .dataframe tbody tr th:only-of-type {\n",
       "        vertical-align: middle;\n",
       "    }\n",
       "\n",
       "    .dataframe tbody tr th {\n",
       "        vertical-align: top;\n",
       "    }\n",
       "\n",
       "    .dataframe thead th {\n",
       "        text-align: right;\n",
       "    }\n",
       "</style>\n",
       "<table border=\"1\" class=\"dataframe\">\n",
       "  <thead>\n",
       "    <tr style=\"text-align: right;\">\n",
       "      <th></th>\n",
       "      <th>S.no.</th>\n",
       "      <th>Name of the show</th>\n",
       "      <th>Year of release</th>\n",
       "      <th>No of seasons available</th>\n",
       "      <th>Language</th>\n",
       "      <th>Genre</th>\n",
       "      <th>IMDb rating</th>\n",
       "      <th>Age of viewers</th>\n",
       "    </tr>\n",
       "  </thead>\n",
       "  <tbody>\n",
       "    <tr>\n",
       "      <th>0</th>\n",
       "      <td>1</td>\n",
       "      <td>Pataal Lok</td>\n",
       "      <td>2020</td>\n",
       "      <td>1</td>\n",
       "      <td>Hindi</td>\n",
       "      <td>Drama</td>\n",
       "      <td>7.5</td>\n",
       "      <td>18+</td>\n",
       "    </tr>\n",
       "    <tr>\n",
       "      <th>1</th>\n",
       "      <td>2</td>\n",
       "      <td>Upload</td>\n",
       "      <td>2020</td>\n",
       "      <td>1</td>\n",
       "      <td>English</td>\n",
       "      <td>Sci-fi comedy</td>\n",
       "      <td>8.1</td>\n",
       "      <td>16+</td>\n",
       "    </tr>\n",
       "    <tr>\n",
       "      <th>2</th>\n",
       "      <td>3</td>\n",
       "      <td>The Marvelous Mrs. Maisel</td>\n",
       "      <td>2017</td>\n",
       "      <td>3</td>\n",
       "      <td>English</td>\n",
       "      <td>Drama, Comedy</td>\n",
       "      <td>8.7</td>\n",
       "      <td>16+</td>\n",
       "    </tr>\n",
       "    <tr>\n",
       "      <th>3</th>\n",
       "      <td>4</td>\n",
       "      <td>Four More Shots Please</td>\n",
       "      <td>2019</td>\n",
       "      <td>2</td>\n",
       "      <td>Hindi</td>\n",
       "      <td>Drama, Comedy</td>\n",
       "      <td>5.3</td>\n",
       "      <td>18+</td>\n",
       "    </tr>\n",
       "    <tr>\n",
       "      <th>4</th>\n",
       "      <td>5</td>\n",
       "      <td>Fleabag</td>\n",
       "      <td>2016</td>\n",
       "      <td>2</td>\n",
       "      <td>English</td>\n",
       "      <td>Comedy</td>\n",
       "      <td>8.7</td>\n",
       "      <td>18+</td>\n",
       "    </tr>\n",
       "  </tbody>\n",
       "</table>\n",
       "</div>"
      ],
      "text/plain": [
       "   S.no.           Name of the show  Year of release  No of seasons available  \\\n",
       "0      1                 Pataal Lok             2020                        1   \n",
       "1      2                     Upload             2020                        1   \n",
       "2      3  The Marvelous Mrs. Maisel             2017                        3   \n",
       "3      4     Four More Shots Please             2019                        2   \n",
       "4      5                    Fleabag             2016                        2   \n",
       "\n",
       "  Language          Genre  IMDb rating Age of viewers  \n",
       "0    Hindi          Drama          7.5            18+  \n",
       "1  English  Sci-fi comedy          8.1            16+  \n",
       "2  English  Drama, Comedy          8.7            16+  \n",
       "3    Hindi  Drama, Comedy          5.3            18+  \n",
       "4  English         Comedy          8.7            18+  "
      ]
     },
     "execution_count": 10,
     "metadata": {},
     "output_type": "execute_result"
    }
   ],
   "source": [
    "amazon.head()"
   ]
  },
  {
   "cell_type": "code",
   "execution_count": 11,
   "id": "b462fb0d",
   "metadata": {},
   "outputs": [
    {
     "data": {
      "text/plain": [
       "True"
      ]
     },
     "execution_count": 11,
     "metadata": {},
     "output_type": "execute_result"
    }
   ],
   "source": [
    "amazon.duplicated().any()"
   ]
  },
  {
   "cell_type": "code",
   "execution_count": 12,
   "id": "f612ad86",
   "metadata": {},
   "outputs": [
    {
     "data": {
      "text/html": [
       "<div>\n",
       "<style scoped>\n",
       "    .dataframe tbody tr th:only-of-type {\n",
       "        vertical-align: middle;\n",
       "    }\n",
       "\n",
       "    .dataframe tbody tr th {\n",
       "        vertical-align: top;\n",
       "    }\n",
       "\n",
       "    .dataframe thead th {\n",
       "        text-align: right;\n",
       "    }\n",
       "</style>\n",
       "<table border=\"1\" class=\"dataframe\">\n",
       "  <thead>\n",
       "    <tr style=\"text-align: right;\">\n",
       "      <th></th>\n",
       "      <th>S.no.</th>\n",
       "      <th>Name of the show</th>\n",
       "      <th>Year of release</th>\n",
       "      <th>No of seasons available</th>\n",
       "      <th>Language</th>\n",
       "      <th>Genre</th>\n",
       "      <th>IMDb rating</th>\n",
       "      <th>Age of viewers</th>\n",
       "    </tr>\n",
       "  </thead>\n",
       "  <tbody>\n",
       "    <tr>\n",
       "      <th>396</th>\n",
       "      <td>345</td>\n",
       "      <td>Lexx</td>\n",
       "      <td>1997</td>\n",
       "      <td>4</td>\n",
       "      <td>English</td>\n",
       "      <td>Sci-fi</td>\n",
       "      <td>NaN</td>\n",
       "      <td>13+</td>\n",
       "    </tr>\n",
       "    <tr>\n",
       "      <th>397</th>\n",
       "      <td>346</td>\n",
       "      <td>Atchoo</td>\n",
       "      <td>2018</td>\n",
       "      <td>1</td>\n",
       "      <td>Hindi</td>\n",
       "      <td>Kids</td>\n",
       "      <td>NaN</td>\n",
       "      <td>All</td>\n",
       "    </tr>\n",
       "    <tr>\n",
       "      <th>398</th>\n",
       "      <td>347</td>\n",
       "      <td>Tom Gleeson: Joy</td>\n",
       "      <td>2020</td>\n",
       "      <td>1</td>\n",
       "      <td>English</td>\n",
       "      <td>Comedy</td>\n",
       "      <td>6.3</td>\n",
       "      <td>16+</td>\n",
       "    </tr>\n",
       "    <tr>\n",
       "      <th>399</th>\n",
       "      <td>348</td>\n",
       "      <td>People of Earth</td>\n",
       "      <td>2016</td>\n",
       "      <td>2</td>\n",
       "      <td>English</td>\n",
       "      <td>Comedy</td>\n",
       "      <td>7.7</td>\n",
       "      <td>All</td>\n",
       "    </tr>\n",
       "    <tr>\n",
       "      <th>400</th>\n",
       "      <td>349</td>\n",
       "      <td>Son of Abish</td>\n",
       "      <td>2016</td>\n",
       "      <td>1</td>\n",
       "      <td>English</td>\n",
       "      <td>Arts, Entertainment, Culture</td>\n",
       "      <td>7.3</td>\n",
       "      <td>13+</td>\n",
       "    </tr>\n",
       "    <tr>\n",
       "      <th>401</th>\n",
       "      <td>350</td>\n",
       "      <td>Tom Walker: Very Very</td>\n",
       "      <td>2020</td>\n",
       "      <td>1</td>\n",
       "      <td>English</td>\n",
       "      <td>Comedy</td>\n",
       "      <td>NaN</td>\n",
       "      <td>16+</td>\n",
       "    </tr>\n",
       "    <tr>\n",
       "      <th>402</th>\n",
       "      <td>351</td>\n",
       "      <td>Jayde Adams: Serious Black Jumper</td>\n",
       "      <td>2020</td>\n",
       "      <td>1</td>\n",
       "      <td>English</td>\n",
       "      <td>Comedy</td>\n",
       "      <td>6.9</td>\n",
       "      <td>16+</td>\n",
       "    </tr>\n",
       "    <tr>\n",
       "      <th>403</th>\n",
       "      <td>352</td>\n",
       "      <td>Crisis in Six Scenes</td>\n",
       "      <td>2016</td>\n",
       "      <td>1</td>\n",
       "      <td>English</td>\n",
       "      <td>Comedy</td>\n",
       "      <td>6.6</td>\n",
       "      <td>18+</td>\n",
       "    </tr>\n",
       "    <tr>\n",
       "      <th>404</th>\n",
       "      <td>353</td>\n",
       "      <td>Alonzo Bodden: Heavy Lightweight</td>\n",
       "      <td>2019</td>\n",
       "      <td>1</td>\n",
       "      <td>English</td>\n",
       "      <td>Comedy</td>\n",
       "      <td>5.6</td>\n",
       "      <td>16+</td>\n",
       "    </tr>\n",
       "    <tr>\n",
       "      <th>405</th>\n",
       "      <td>354</td>\n",
       "      <td>Chris Ramsey: Approval Needed</td>\n",
       "      <td>2019</td>\n",
       "      <td>1</td>\n",
       "      <td>English</td>\n",
       "      <td>Arts, Entertainment, Culture</td>\n",
       "      <td>7.2</td>\n",
       "      <td>16+</td>\n",
       "    </tr>\n",
       "  </tbody>\n",
       "</table>\n",
       "</div>"
      ],
      "text/plain": [
       "     S.no.                   Name of the show  Year of release  \\\n",
       "396    345                               Lexx             1997   \n",
       "397    346                             Atchoo             2018   \n",
       "398    347                   Tom Gleeson: Joy             2020   \n",
       "399    348                    People of Earth             2016   \n",
       "400    349                       Son of Abish             2016   \n",
       "401    350              Tom Walker: Very Very             2020   \n",
       "402    351  Jayde Adams: Serious Black Jumper             2020   \n",
       "403    352               Crisis in Six Scenes             2016   \n",
       "404    353   Alonzo Bodden: Heavy Lightweight             2019   \n",
       "405    354      Chris Ramsey: Approval Needed             2019   \n",
       "\n",
       "     No of seasons available Language                         Genre  \\\n",
       "396                        4  English                        Sci-fi   \n",
       "397                        1    Hindi                          Kids   \n",
       "398                        1  English                        Comedy   \n",
       "399                        2  English                        Comedy   \n",
       "400                        1  English  Arts, Entertainment, Culture   \n",
       "401                        1  English                        Comedy   \n",
       "402                        1  English                        Comedy   \n",
       "403                        1  English                        Comedy   \n",
       "404                        1  English                        Comedy   \n",
       "405                        1  English  Arts, Entertainment, Culture   \n",
       "\n",
       "     IMDb rating Age of viewers  \n",
       "396          NaN            13+  \n",
       "397          NaN            All  \n",
       "398          6.3            16+  \n",
       "399          7.7            All  \n",
       "400          7.3            13+  \n",
       "401          NaN            16+  \n",
       "402          6.9            16+  \n",
       "403          6.6            18+  \n",
       "404          5.6            16+  \n",
       "405          7.2            16+  "
      ]
     },
     "execution_count": 12,
     "metadata": {},
     "output_type": "execute_result"
    }
   ],
   "source": [
    "#there are duplicate values\n",
    "amazon[amazon.duplicated()]"
   ]
  },
  {
   "cell_type": "code",
   "execution_count": 13,
   "id": "6d6991d0",
   "metadata": {},
   "outputs": [],
   "source": [
    "amazon.drop_duplicates(inplace = True)"
   ]
  },
  {
   "cell_type": "code",
   "execution_count": 14,
   "id": "dacc6c55",
   "metadata": {},
   "outputs": [
    {
     "data": {
      "text/plain": [
       "False"
      ]
     },
     "execution_count": 14,
     "metadata": {},
     "output_type": "execute_result"
    }
   ],
   "source": [
    "amazon.duplicated().any()"
   ]
  },
  {
   "cell_type": "code",
   "execution_count": 15,
   "id": "c9b88729",
   "metadata": {},
   "outputs": [],
   "source": [
    "#duplicates have been removed"
   ]
  },
  {
   "cell_type": "markdown",
   "id": "653c6120",
   "metadata": {},
   "source": [
    "# Checking for null values"
   ]
  },
  {
   "cell_type": "code",
   "execution_count": 16,
   "id": "2ae59dcc",
   "metadata": {},
   "outputs": [
    {
     "data": {
      "text/html": [
       "<div>\n",
       "<style scoped>\n",
       "    .dataframe tbody tr th:only-of-type {\n",
       "        vertical-align: middle;\n",
       "    }\n",
       "\n",
       "    .dataframe tbody tr th {\n",
       "        vertical-align: top;\n",
       "    }\n",
       "\n",
       "    .dataframe thead th {\n",
       "        text-align: right;\n",
       "    }\n",
       "</style>\n",
       "<table border=\"1\" class=\"dataframe\">\n",
       "  <thead>\n",
       "    <tr style=\"text-align: right;\">\n",
       "      <th></th>\n",
       "      <th>S.no.</th>\n",
       "      <th>Name of the show</th>\n",
       "      <th>Year of release</th>\n",
       "      <th>No of seasons available</th>\n",
       "      <th>Language</th>\n",
       "      <th>Genre</th>\n",
       "      <th>IMDb rating</th>\n",
       "      <th>Age of viewers</th>\n",
       "    </tr>\n",
       "  </thead>\n",
       "  <tbody>\n",
       "    <tr>\n",
       "      <th>0</th>\n",
       "      <td>1</td>\n",
       "      <td>Pataal Lok</td>\n",
       "      <td>2020</td>\n",
       "      <td>1</td>\n",
       "      <td>Hindi</td>\n",
       "      <td>Drama</td>\n",
       "      <td>7.5</td>\n",
       "      <td>18+</td>\n",
       "    </tr>\n",
       "    <tr>\n",
       "      <th>1</th>\n",
       "      <td>2</td>\n",
       "      <td>Upload</td>\n",
       "      <td>2020</td>\n",
       "      <td>1</td>\n",
       "      <td>English</td>\n",
       "      <td>Sci-fi comedy</td>\n",
       "      <td>8.1</td>\n",
       "      <td>16+</td>\n",
       "    </tr>\n",
       "    <tr>\n",
       "      <th>2</th>\n",
       "      <td>3</td>\n",
       "      <td>The Marvelous Mrs. Maisel</td>\n",
       "      <td>2017</td>\n",
       "      <td>3</td>\n",
       "      <td>English</td>\n",
       "      <td>Drama, Comedy</td>\n",
       "      <td>8.7</td>\n",
       "      <td>16+</td>\n",
       "    </tr>\n",
       "    <tr>\n",
       "      <th>3</th>\n",
       "      <td>4</td>\n",
       "      <td>Four More Shots Please</td>\n",
       "      <td>2019</td>\n",
       "      <td>2</td>\n",
       "      <td>Hindi</td>\n",
       "      <td>Drama, Comedy</td>\n",
       "      <td>5.3</td>\n",
       "      <td>18+</td>\n",
       "    </tr>\n",
       "    <tr>\n",
       "      <th>4</th>\n",
       "      <td>5</td>\n",
       "      <td>Fleabag</td>\n",
       "      <td>2016</td>\n",
       "      <td>2</td>\n",
       "      <td>English</td>\n",
       "      <td>Comedy</td>\n",
       "      <td>8.7</td>\n",
       "      <td>18+</td>\n",
       "    </tr>\n",
       "  </tbody>\n",
       "</table>\n",
       "</div>"
      ],
      "text/plain": [
       "   S.no.           Name of the show  Year of release  No of seasons available  \\\n",
       "0      1                 Pataal Lok             2020                        1   \n",
       "1      2                     Upload             2020                        1   \n",
       "2      3  The Marvelous Mrs. Maisel             2017                        3   \n",
       "3      4     Four More Shots Please             2019                        2   \n",
       "4      5                    Fleabag             2016                        2   \n",
       "\n",
       "  Language          Genre  IMDb rating Age of viewers  \n",
       "0    Hindi          Drama          7.5            18+  \n",
       "1  English  Sci-fi comedy          8.1            16+  \n",
       "2  English  Drama, Comedy          8.7            16+  \n",
       "3    Hindi  Drama, Comedy          5.3            18+  \n",
       "4  English         Comedy          8.7            18+  "
      ]
     },
     "execution_count": 16,
     "metadata": {},
     "output_type": "execute_result"
    }
   ],
   "source": [
    "amazon.head()"
   ]
  },
  {
   "cell_type": "code",
   "execution_count": 17,
   "id": "ea108381",
   "metadata": {},
   "outputs": [
    {
     "data": {
      "text/plain": [
       "S.no.                        0\n",
       "Name of the show             0\n",
       "Year of release              0\n",
       "No of seasons available      0\n",
       "Language                     0\n",
       "Genre                        0\n",
       "IMDb rating                213\n",
       "Age of viewers               0\n",
       "dtype: int64"
      ]
     },
     "execution_count": 17,
     "metadata": {},
     "output_type": "execute_result"
    }
   ],
   "source": [
    "amazon.isnull().sum()"
   ]
  },
  {
   "cell_type": "code",
   "execution_count": 18,
   "id": "506ac2d5",
   "metadata": {},
   "outputs": [
    {
     "data": {
      "image/png": "[encoded data removed]",
      "text/plain": [
       "<Figure size 432x288 with 2 Axes>"
      ]
     },
     "metadata": {
      "needs_background": "light"
     },
     "output_type": "display_data"
    }
   ],
   "source": [
    "sns.heatmap(amazon.isnull())\n",
    "plt.show()"
   ]
  },
  {
   "cell_type": "markdown",
   "id": "f8f717c5",
   "metadata": {},
   "source": [
    "# Conditional selection and filtering data for analysis"
   ]
  },
  {
   "cell_type": "code",
   "execution_count": 19,
   "id": "7fa36542",
   "metadata": {},
   "outputs": [
    {
     "data": {
      "text/html": [
       "<div>\n",
       "<style scoped>\n",
       "    .dataframe tbody tr th:only-of-type {\n",
       "        vertical-align: middle;\n",
       "    }\n",
       "\n",
       "    .dataframe tbody tr th {\n",
       "        vertical-align: top;\n",
       "    }\n",
       "\n",
       "    .dataframe thead th {\n",
       "        text-align: right;\n",
       "    }\n",
       "</style>\n",
       "<table border=\"1\" class=\"dataframe\">\n",
       "  <thead>\n",
       "    <tr style=\"text-align: right;\">\n",
       "      <th></th>\n",
       "      <th>S.no.</th>\n",
       "      <th>Name of the show</th>\n",
       "      <th>Year of release</th>\n",
       "      <th>No of seasons available</th>\n",
       "      <th>Language</th>\n",
       "      <th>Genre</th>\n",
       "      <th>IMDb rating</th>\n",
       "      <th>Age of viewers</th>\n",
       "    </tr>\n",
       "  </thead>\n",
       "  <tbody>\n",
       "    <tr>\n",
       "      <th>0</th>\n",
       "      <td>1</td>\n",
       "      <td>Pataal Lok</td>\n",
       "      <td>2020</td>\n",
       "      <td>1</td>\n",
       "      <td>Hindi</td>\n",
       "      <td>Drama</td>\n",
       "      <td>7.5</td>\n",
       "      <td>18+</td>\n",
       "    </tr>\n",
       "    <tr>\n",
       "      <th>1</th>\n",
       "      <td>2</td>\n",
       "      <td>Upload</td>\n",
       "      <td>2020</td>\n",
       "      <td>1</td>\n",
       "      <td>English</td>\n",
       "      <td>Sci-fi comedy</td>\n",
       "      <td>8.1</td>\n",
       "      <td>16+</td>\n",
       "    </tr>\n",
       "    <tr>\n",
       "      <th>2</th>\n",
       "      <td>3</td>\n",
       "      <td>The Marvelous Mrs. Maisel</td>\n",
       "      <td>2017</td>\n",
       "      <td>3</td>\n",
       "      <td>English</td>\n",
       "      <td>Drama, Comedy</td>\n",
       "      <td>8.7</td>\n",
       "      <td>16+</td>\n",
       "    </tr>\n",
       "    <tr>\n",
       "      <th>3</th>\n",
       "      <td>4</td>\n",
       "      <td>Four More Shots Please</td>\n",
       "      <td>2019</td>\n",
       "      <td>2</td>\n",
       "      <td>Hindi</td>\n",
       "      <td>Drama, Comedy</td>\n",
       "      <td>5.3</td>\n",
       "      <td>18+</td>\n",
       "    </tr>\n",
       "    <tr>\n",
       "      <th>4</th>\n",
       "      <td>5</td>\n",
       "      <td>Fleabag</td>\n",
       "      <td>2016</td>\n",
       "      <td>2</td>\n",
       "      <td>English</td>\n",
       "      <td>Comedy</td>\n",
       "      <td>8.7</td>\n",
       "      <td>18+</td>\n",
       "    </tr>\n",
       "  </tbody>\n",
       "</table>\n",
       "</div>"
      ],
      "text/plain": [
       "   S.no.           Name of the show  Year of release  No of seasons available  \\\n",
       "0      1                 Pataal Lok             2020                        1   \n",
       "1      2                     Upload             2020                        1   \n",
       "2      3  The Marvelous Mrs. Maisel             2017                        3   \n",
       "3      4     Four More Shots Please             2019                        2   \n",
       "4      5                    Fleabag             2016                        2   \n",
       "\n",
       "  Language          Genre  IMDb rating Age of viewers  \n",
       "0    Hindi          Drama          7.5            18+  \n",
       "1  English  Sci-fi comedy          8.1            16+  \n",
       "2  English  Drama, Comedy          8.7            16+  \n",
       "3    Hindi  Drama, Comedy          5.3            18+  \n",
       "4  English         Comedy          8.7            18+  "
      ]
     },
     "execution_count": 19,
     "metadata": {},
     "output_type": "execute_result"
    }
   ],
   "source": [
    "amazon.head()\n"
   ]
  },
  {
   "cell_type": "markdown",
   "id": "074a2bd1",
   "metadata": {},
   "source": [
    "# In which year the most tvshows were released"
   ]
  },
  {
   "cell_type": "code",
   "execution_count": 20,
   "id": "1322d4b9",
   "metadata": {},
   "outputs": [
    {
     "data": {
      "text/plain": [
       "2018    64\n",
       "2019    46\n",
       "2017    44\n",
       "2016    39\n",
       "2020    27\n",
       "2015    27\n",
       "2014    22\n",
       "2013    11\n",
       "2012    11\n",
       "2010     9\n",
       "2007     9\n",
       "2005     8\n",
       "2011     7\n",
       "2009     6\n",
       "2008     5\n",
       "1998     4\n",
       "1960     4\n",
       "1986     4\n",
       "1990     3\n",
       "2004     3\n",
       "2006     3\n",
       "1993     3\n",
       "1991     2\n",
       "1958     2\n",
       "1959     2\n",
       "1992     2\n",
       "1985     2\n",
       "1997     2\n",
       "1987     2\n",
       "1996     2\n",
       "1995     2\n",
       "2003     2\n",
       "2000     2\n",
       "1999     2\n",
       "1956     2\n",
       "1988     1\n",
       "2002     1\n",
       "2001     1\n",
       "1984     1\n",
       "1983     1\n",
       "1981     1\n",
       "1980     1\n",
       "1979     1\n",
       "1967     1\n",
       "1957     1\n",
       "1926     1\n",
       "Name: Year of release, dtype: int64"
      ]
     },
     "execution_count": 20,
     "metadata": {},
     "output_type": "execute_result"
    }
   ],
   "source": [
    "amazon[\"Year of release\"].value_counts()"
   ]
  },
  {
   "cell_type": "code",
   "execution_count": 21,
   "id": "1d5f3144",
   "metadata": {},
   "outputs": [
    {
     "data": {
      "text/plain": [
       "<AxesSubplot:xlabel='count', ylabel='Year of release'>"
      ]
     },
     "execution_count": 21,
     "metadata": {},
     "output_type": "execute_result"
    },
    {
     "data": {
      "image/png": "[encoded data removed]",
      "text/plain": [
       "<Figure size 432x288 with 1 Axes>"
      ]
     },
     "metadata": {},
     "output_type": "display_data"
    }
   ],
   "source": [
    "#plotting the above in graph, only top 5\n",
    "sns.set_style('white')\n",
    "sns.countplot(y=\"Year of release\", data=amazon,\n",
    "              order=amazon[\"Year of release\"].value_counts().iloc[:5].index)"
   ]
  },
  {
   "cell_type": "markdown",
   "id": "45b39693",
   "metadata": {},
   "source": [
    "# What are the available languages?"
   ]
  },
  {
   "cell_type": "code",
   "execution_count": 23,
   "id": "cb4afc7e",
   "metadata": {},
   "outputs": [
    {
     "data": {
      "text/plain": [
       "English       316\n",
       "Hindi          39\n",
       "Japanese       14\n",
       "Italiano        7\n",
       "Spanish         6\n",
       "Serbian         2\n",
       "Marathi         2\n",
       "Deutsch         2\n",
       "Nederlands      2\n",
       "French          2\n",
       "Russian         1\n",
       "Hebrew          1\n",
       "Telugu          1\n",
       "Suomi           1\n",
       "Name: Language, dtype: int64"
      ]
     },
     "execution_count": 23,
     "metadata": {},
     "output_type": "execute_result"
    }
   ],
   "source": [
    "amazon.Language.value_counts()"
   ]
  },
  {
   "cell_type": "code",
   "execution_count": 28,
   "id": "3cca2262",
   "metadata": {},
   "outputs": [
    {
     "data": {
      "image/png": "[encoded data removed]",
      "text/plain": [
       "<Figure size 432x288 with 1 Axes>"
      ]
     },
     "metadata": {},
     "output_type": "display_data"
    }
   ],
   "source": [
    "#showing the above top 5 in pie chart\n",
    "language ='English', 'Hindi','Japanese','Italiano','Spanish',\n",
    "'Serbian'  \n",
    "size = [316,39,14,7,6]\n",
    "plt.axis(\"equal\")\n",
    "plt.pie(size, labels= language,autopct='%1.1f%%')\n",
    "plt.show()"
   ]
  },
  {
   "cell_type": "markdown",
   "id": "58be2d89",
   "metadata": {},
   "source": [
    "# Which TV show is suitable on the basis of age of viewers"
   ]
  },
  {
   "cell_type": "code",
   "execution_count": 31,
   "id": "a4efd7c4",
   "metadata": {},
   "outputs": [
    {
     "data": {
      "text/html": [
       "<div>\n",
       "<style scoped>\n",
       "    .dataframe tbody tr th:only-of-type {\n",
       "        vertical-align: middle;\n",
       "    }\n",
       "\n",
       "    .dataframe tbody tr th {\n",
       "        vertical-align: top;\n",
       "    }\n",
       "\n",
       "    .dataframe thead th {\n",
       "        text-align: right;\n",
       "    }\n",
       "</style>\n",
       "<table border=\"1\" class=\"dataframe\">\n",
       "  <thead>\n",
       "    <tr style=\"text-align: right;\">\n",
       "      <th></th>\n",
       "      <th>S.no.</th>\n",
       "      <th>Name of the show</th>\n",
       "      <th>Year of release</th>\n",
       "      <th>No of seasons available</th>\n",
       "      <th>Language</th>\n",
       "      <th>Genre</th>\n",
       "      <th>IMDb rating</th>\n",
       "      <th>Age_of_viewers</th>\n",
       "    </tr>\n",
       "  </thead>\n",
       "  <tbody>\n",
       "    <tr>\n",
       "      <th>0</th>\n",
       "      <td>1</td>\n",
       "      <td>Pataal Lok</td>\n",
       "      <td>2020</td>\n",
       "      <td>1</td>\n",
       "      <td>Hindi</td>\n",
       "      <td>Drama</td>\n",
       "      <td>7.5</td>\n",
       "      <td>18+</td>\n",
       "    </tr>\n",
       "    <tr>\n",
       "      <th>1</th>\n",
       "      <td>2</td>\n",
       "      <td>Upload</td>\n",
       "      <td>2020</td>\n",
       "      <td>1</td>\n",
       "      <td>English</td>\n",
       "      <td>Sci-fi comedy</td>\n",
       "      <td>8.1</td>\n",
       "      <td>16+</td>\n",
       "    </tr>\n",
       "    <tr>\n",
       "      <th>2</th>\n",
       "      <td>3</td>\n",
       "      <td>The Marvelous Mrs. Maisel</td>\n",
       "      <td>2017</td>\n",
       "      <td>3</td>\n",
       "      <td>English</td>\n",
       "      <td>Drama, Comedy</td>\n",
       "      <td>8.7</td>\n",
       "      <td>16+</td>\n",
       "    </tr>\n",
       "    <tr>\n",
       "      <th>3</th>\n",
       "      <td>4</td>\n",
       "      <td>Four More Shots Please</td>\n",
       "      <td>2019</td>\n",
       "      <td>2</td>\n",
       "      <td>Hindi</td>\n",
       "      <td>Drama, Comedy</td>\n",
       "      <td>5.3</td>\n",
       "      <td>18+</td>\n",
       "    </tr>\n",
       "    <tr>\n",
       "      <th>4</th>\n",
       "      <td>5</td>\n",
       "      <td>Fleabag</td>\n",
       "      <td>2016</td>\n",
       "      <td>2</td>\n",
       "      <td>English</td>\n",
       "      <td>Comedy</td>\n",
       "      <td>8.7</td>\n",
       "      <td>18+</td>\n",
       "    </tr>\n",
       "  </tbody>\n",
       "</table>\n",
       "</div>"
      ],
      "text/plain": [
       "   S.no.           Name of the show  Year of release  No of seasons available  \\\n",
       "0      1                 Pataal Lok             2020                        1   \n",
       "1      2                     Upload             2020                        1   \n",
       "2      3  The Marvelous Mrs. Maisel             2017                        3   \n",
       "3      4     Four More Shots Please             2019                        2   \n",
       "4      5                    Fleabag             2016                        2   \n",
       "\n",
       "  Language          Genre  IMDb rating Age_of_viewers  \n",
       "0    Hindi          Drama          7.5            18+  \n",
       "1  English  Sci-fi comedy          8.1            16+  \n",
       "2  English  Drama, Comedy          8.7            16+  \n",
       "3    Hindi  Drama, Comedy          5.3            18+  \n",
       "4  English         Comedy          8.7            18+  "
      ]
     },
     "execution_count": 31,
     "metadata": {},
     "output_type": "execute_result"
    }
   ],
   "source": [
    "amazon.head()"
   ]
  },
  {
   "cell_type": "code",
   "execution_count": 30,
   "id": "ce228bee",
   "metadata": {},
   "outputs": [],
   "source": [
    "amazon.rename(columns={\"Age of viewers\":\"Age_of_viewers\"},inplace = True)\n",
    "#renaming column for better readability"
   ]
  },
  {
   "cell_type": "code",
   "execution_count": 32,
   "id": "262fd995",
   "metadata": {},
   "outputs": [
    {
     "data": {
      "text/plain": [
       "27                                Man with a Plan\n",
       "29                                     Doctor Who\n",
       "46                                       Scorpion\n",
       "49                                 Downtown Abbey\n",
       "50                                        McMafia\n",
       "                          ...                    \n",
       "390    The 2018 Rose Parade Hosted by Cord & Tish\n",
       "391                   Aliens Love Underpants And�\n",
       "393                         Businessmen VS Aliens\n",
       "394                                  Murphy Brown\n",
       "395                           The Best of Groucho\n",
       "Name: Name of the show, Length: 167, dtype: object"
      ]
     },
     "execution_count": 32,
     "metadata": {},
     "output_type": "execute_result"
    }
   ],
   "source": [
    "amazon[\"Name of the show\"][amazon.Age_of_viewers.isin([\"7+\",\"13+\",\"All\"])]"
   ]
  },
  {
   "cell_type": "code",
   "execution_count": 33,
   "id": "93801e9e",
   "metadata": {},
   "outputs": [
    {
     "data": {
      "text/plain": [
       "49                         Downtown Abbey\n",
       "115                        Famous in Love\n",
       "119                        Penny Dreadful\n",
       "126                                 Claws\n",
       "136                         Dance Academy\n",
       "142                           Ray Donovan\n",
       "147                            Tokyo Girl\n",
       "154                                  Life\n",
       "157      Fukuyadou Honpo-Kyoto Love Story\n",
       "203          Girlfriends Guide to Divorce\n",
       "207                           Queen Sugar\n",
       "226                            Lost in Oz\n",
       "235                         Amazon Riders\n",
       "263         Mr. Bean: The Animated Series\n",
       "265               The Stinky & Dirty Show\n",
       "276              Oggy and the Cockroaches\n",
       "277                             The Kicks\n",
       "278                   The PowerPuff Girls\n",
       "279                            The Middle\n",
       "281                              Seinfeld\n",
       "292                          Johnny Bravo\n",
       "294          Sigmund and the Sea Monsters\n",
       "296                       Munki and Trunk\n",
       "297                      Anger Management\n",
       "312                       Trial and Error\n",
       "313                           Man's World\n",
       "319                             That Girl\n",
       "320                    Little Big Awesome\n",
       "324                      The New Archie's\n",
       "329                       Danger and Eggs\n",
       "333           Kanan Gill: How Insensitive\n",
       "334            Jim Gaffigan: Quality Time\n",
       "342     The Adventures of Paddington Bear\n",
       "347                       People of Earth\n",
       "348                          Son of Abish\n",
       "368                         Scream Street\n",
       "369                      Me, Myself and I\n",
       "371    The Kacey Musgraves Christmas Show\n",
       "373                 The Danny Thomas Show\n",
       "379                 Scooter: Secret Agent\n",
       "383                       The Real McCoys\n",
       "Name: Name of the show, dtype: object"
      ]
     },
     "execution_count": 33,
     "metadata": {},
     "output_type": "execute_result"
    }
   ],
   "source": [
    "#and also based on imbd rating\n",
    "amazon[\"Name of the show\"][amazon.Age_of_viewers.isin([\"7+\",\"13+\",\"All\"]) & (amazon[\"IMDb rating\"] > 6.5)]"
   ]
  },
  {
   "cell_type": "markdown",
   "id": "3b12a6c5",
   "metadata": {},
   "source": [
    "# Selecting the records where the genre is comedy"
   ]
  },
  {
   "cell_type": "code",
   "execution_count": 34,
   "id": "10e2e463",
   "metadata": {},
   "outputs": [
    {
     "data": {
      "text/html": [
       "<div>\n",
       "<style scoped>\n",
       "    .dataframe tbody tr th:only-of-type {\n",
       "        vertical-align: middle;\n",
       "    }\n",
       "\n",
       "    .dataframe tbody tr th {\n",
       "        vertical-align: top;\n",
       "    }\n",
       "\n",
       "    .dataframe thead th {\n",
       "        text-align: right;\n",
       "    }\n",
       "</style>\n",
       "<table border=\"1\" class=\"dataframe\">\n",
       "  <thead>\n",
       "    <tr style=\"text-align: right;\">\n",
       "      <th></th>\n",
       "      <th>S.no.</th>\n",
       "      <th>Name of the show</th>\n",
       "      <th>Year of release</th>\n",
       "      <th>No of seasons available</th>\n",
       "      <th>Language</th>\n",
       "      <th>Genre</th>\n",
       "      <th>IMDb rating</th>\n",
       "      <th>Age_of_viewers</th>\n",
       "    </tr>\n",
       "  </thead>\n",
       "  <tbody>\n",
       "    <tr>\n",
       "      <th>4</th>\n",
       "      <td>5</td>\n",
       "      <td>Fleabag</td>\n",
       "      <td>2016</td>\n",
       "      <td>2</td>\n",
       "      <td>English</td>\n",
       "      <td>Comedy</td>\n",
       "      <td>8.7</td>\n",
       "      <td>18+</td>\n",
       "    </tr>\n",
       "    <tr>\n",
       "      <th>22</th>\n",
       "      <td>23</td>\n",
       "      <td>One Mic Stand</td>\n",
       "      <td>2019</td>\n",
       "      <td>1</td>\n",
       "      <td>Hindi</td>\n",
       "      <td>Comedy</td>\n",
       "      <td>6.5</td>\n",
       "      <td>16+</td>\n",
       "    </tr>\n",
       "    <tr>\n",
       "      <th>203</th>\n",
       "      <td>204</td>\n",
       "      <td>Girlfriends Guide to Divorce</td>\n",
       "      <td>2015</td>\n",
       "      <td>5</td>\n",
       "      <td>English</td>\n",
       "      <td>Comedy</td>\n",
       "      <td>6.9</td>\n",
       "      <td>All</td>\n",
       "    </tr>\n",
       "    <tr>\n",
       "      <th>208</th>\n",
       "      <td>209</td>\n",
       "      <td>Alone Together</td>\n",
       "      <td>2018</td>\n",
       "      <td>2</td>\n",
       "      <td>English</td>\n",
       "      <td>Comedy</td>\n",
       "      <td>NaN</td>\n",
       "      <td>16+</td>\n",
       "    </tr>\n",
       "    <tr>\n",
       "      <th>258</th>\n",
       "      <td>259</td>\n",
       "      <td>Young Sheldon</td>\n",
       "      <td>2018</td>\n",
       "      <td>3</td>\n",
       "      <td>English</td>\n",
       "      <td>Comedy</td>\n",
       "      <td>NaN</td>\n",
       "      <td>13+</td>\n",
       "    </tr>\n",
       "    <tr>\n",
       "      <th>...</th>\n",
       "      <td>...</td>\n",
       "      <td>...</td>\n",
       "      <td>...</td>\n",
       "      <td>...</td>\n",
       "      <td>...</td>\n",
       "      <td>...</td>\n",
       "      <td>...</td>\n",
       "      <td>...</td>\n",
       "    </tr>\n",
       "    <tr>\n",
       "      <th>390</th>\n",
       "      <td>391</td>\n",
       "      <td>The 2018 Rose Parade Hosted by Cord &amp; Tish</td>\n",
       "      <td>2018</td>\n",
       "      <td>1</td>\n",
       "      <td>English</td>\n",
       "      <td>Comedy</td>\n",
       "      <td>NaN</td>\n",
       "      <td>All</td>\n",
       "    </tr>\n",
       "    <tr>\n",
       "      <th>392</th>\n",
       "      <td>393</td>\n",
       "      <td>Gina Brillon: The Floor is Lava</td>\n",
       "      <td>2020</td>\n",
       "      <td>1</td>\n",
       "      <td>English</td>\n",
       "      <td>Comedy</td>\n",
       "      <td>NaN</td>\n",
       "      <td>16+</td>\n",
       "    </tr>\n",
       "    <tr>\n",
       "      <th>393</th>\n",
       "      <td>399</td>\n",
       "      <td>Businessmen VS Aliens</td>\n",
       "      <td>2018</td>\n",
       "      <td>1</td>\n",
       "      <td>Japanese</td>\n",
       "      <td>Comedy</td>\n",
       "      <td>4.5</td>\n",
       "      <td>13+</td>\n",
       "    </tr>\n",
       "    <tr>\n",
       "      <th>394</th>\n",
       "      <td>400</td>\n",
       "      <td>Murphy Brown</td>\n",
       "      <td>2018</td>\n",
       "      <td>1</td>\n",
       "      <td>English</td>\n",
       "      <td>Comedy</td>\n",
       "      <td>NaN</td>\n",
       "      <td>All</td>\n",
       "    </tr>\n",
       "    <tr>\n",
       "      <th>395</th>\n",
       "      <td>401</td>\n",
       "      <td>The Best of Groucho</td>\n",
       "      <td>1960</td>\n",
       "      <td>1</td>\n",
       "      <td>English</td>\n",
       "      <td>Comedy</td>\n",
       "      <td>NaN</td>\n",
       "      <td>7+</td>\n",
       "    </tr>\n",
       "  </tbody>\n",
       "</table>\n",
       "<p>100 rows × 8 columns</p>\n",
       "</div>"
      ],
      "text/plain": [
       "     S.no.                            Name of the show  Year of release  \\\n",
       "4        5                                     Fleabag             2016   \n",
       "22      23                               One Mic Stand             2019   \n",
       "203    204                Girlfriends Guide to Divorce             2015   \n",
       "208    209                              Alone Together             2018   \n",
       "258    259                               Young Sheldon             2018   \n",
       "..     ...                                         ...              ...   \n",
       "390    391  The 2018 Rose Parade Hosted by Cord & Tish             2018   \n",
       "392    393             Gina Brillon: The Floor is Lava             2020   \n",
       "393    399                       Businessmen VS Aliens             2018   \n",
       "394    400                                Murphy Brown             2018   \n",
       "395    401                         The Best of Groucho             1960   \n",
       "\n",
       "     No of seasons available  Language   Genre  IMDb rating Age_of_viewers  \n",
       "4                          2   English  Comedy          8.7            18+  \n",
       "22                         1     Hindi  Comedy          6.5            16+  \n",
       "203                        5   English  Comedy          6.9            All  \n",
       "208                        2   English  Comedy          NaN            16+  \n",
       "258                        3   English  Comedy          NaN            13+  \n",
       "..                       ...       ...     ...          ...            ...  \n",
       "390                        1   English  Comedy          NaN            All  \n",
       "392                        1   English  Comedy          NaN            16+  \n",
       "393                        1  Japanese  Comedy          4.5            13+  \n",
       "394                        1   English  Comedy          NaN            All  \n",
       "395                        1   English  Comedy          NaN             7+  \n",
       "\n",
       "[100 rows x 8 columns]"
      ]
     },
     "execution_count": 34,
     "metadata": {},
     "output_type": "execute_result"
    }
   ],
   "source": [
    "amazon[amazon[\"Genre\"].isin([\"Comedy\"])] # only comedy genre is selected, we want all which has comedy"
   ]
  },
  {
   "cell_type": "code",
   "execution_count": 39,
   "id": "bccfb26a",
   "metadata": {},
   "outputs": [
    {
     "data": {
      "text/plain": [
       "2                       The Marvelous Mrs. Maisel\n",
       "3                          Four More Shots Please\n",
       "4                                         Fleabag\n",
       "9                                     Modern Love\n",
       "12                                       The Boys\n",
       "                          ...                    \n",
       "390    The 2018 Rose Parade Hosted by Cord & Tish\n",
       "392               Gina Brillon: The Floor is Lava\n",
       "393                         Businessmen VS Aliens\n",
       "394                                  Murphy Brown\n",
       "395                           The Best of Groucho\n",
       "Name: Name of the show, Length: 123, dtype: object"
      ]
     },
     "execution_count": 39,
     "metadata": {},
     "output_type": "execute_result"
    }
   ],
   "source": [
    "amazon[\"Name of the show\"][amazon[\"Genre\"].str.contains(\"Comedy\")] # this method solves the problem"
   ]
  },
  {
   "cell_type": "code",
   "execution_count": 37,
   "id": "29599ef3",
   "metadata": {},
   "outputs": [
    {
     "data": {
      "text/plain": [
       "'DramaSci-fi comedyDrama, ComedyComedyDrama, ActionDrama, Romance, ComedyArts, Entertainment, CultureSports, DramaAction, ComedyDrama, Action, SuspenseFantasy, ComedyDrama, SuspenseSci-fi DocumentaryAnimation, DramaSci-fi, Drama, SuspenseComedy, ActionComedy, Arts, Entertainment, CultureSci-fiDrama, Horror, Romance, SuspenseDrama, Suspense, HorrorDrama, Suspense, FantasyComedy, DramaDrama, FantasyDrama, Horror, SuspenseDrama, Horror, FantasyDrama, Suspense, ActionDrama, Suspense, AdventureDrama, DocumentaryDrama, HorrorDrama, Sci-fiFantasyDrama, Action, Sci-fiActionDrama, Action, AdventureDrama, RomanceDrama, Comedy, ActionDrama, Sci-fi, Suspense, ActionDrama, LGBTQ, Arts, Entertainment, CultureHorrorDrama, Comedy, LGBTQDrama, ComeddyDrama, SportsSci-fi, Action, Suspense KidsAdventureKids, AnimationAnimationSports'"
      ]
     },
     "execution_count": 37,
     "metadata": {},
     "output_type": "execute_result"
    }
   ],
   "source": [
    "amazon.Genre.unique()"
   ]
  },
  {
   "cell_type": "code",
   "execution_count": 45,
   "id": "147665fa",
   "metadata": {},
   "outputs": [
    {
     "data": {
      "text/plain": [
       "1                             Upload\n",
       "19               Tales from the Loop\n",
       "24                     American Gods\n",
       "29                        Doctor Who\n",
       "67                            Fringe\n",
       "73                 Star Trek: Picard\n",
       "78              Beauty and the Beast\n",
       "81                 Into the Badlands\n",
       "88                 Marvel's Runaways\n",
       "92                            Heroes\n",
       "114                     The Crossing\n",
       "121    H.G. Wells: The Invisible Man\n",
       "153                  Time After Time\n",
       "171                        The First\n",
       "176                    Falling Water\n",
       "223                      Constantine\n",
       "344                             Lexx\n",
       "Name: Name of the show, dtype: object"
      ]
     },
     "execution_count": 45,
     "metadata": {},
     "output_type": "execute_result"
    }
   ],
   "source": [
    "#nowadays people are watching alot of sci-fi movies and tvshows, lets check how many of them are there in this dataset\n",
    "amazon[\"Name of the show\"][amazon[\"Genre\"].str.contains(\"Sci-fi\")]"
   ]
  },
  {
   "cell_type": "markdown",
   "id": "fa6370f9",
   "metadata": {},
   "source": [
    "# Tvshows based on language\n"
   ]
  },
  {
   "cell_type": "code",
   "execution_count": 41,
   "id": "fb409f0c",
   "metadata": {},
   "outputs": [
    {
     "data": {
      "text/plain": [
       "1                                          Upload\n",
       "2                       The Marvelous Mrs. Maisel\n",
       "4                                         Fleabag\n",
       "6                                      Homecoming\n",
       "9                                     Modern Love\n",
       "                          ...                    \n",
       "390    The 2018 Rose Parade Hosted by Cord & Tish\n",
       "391                   Aliens Love Underpants And�\n",
       "392               Gina Brillon: The Floor is Lava\n",
       "394                                  Murphy Brown\n",
       "395                           The Best of Groucho\n",
       "Name: Name of the show, Length: 316, dtype: object"
      ]
     },
     "execution_count": 41,
     "metadata": {},
     "output_type": "execute_result"
    }
   ],
   "source": [
    "amazon[\"Name of the show\"][amazon.Language == 'English'] #only english tvshows"
   ]
  },
  {
   "cell_type": "code",
   "execution_count": 44,
   "id": "fec94448",
   "metadata": {},
   "outputs": [
    {
     "data": {
      "text/plain": [
       "0                                      Pataal Lok\n",
       "1                                          Upload\n",
       "2                       The Marvelous Mrs. Maisel\n",
       "3                          Four More Shots Please\n",
       "4                                         Fleabag\n",
       "                          ...                    \n",
       "390    The 2018 Rose Parade Hosted by Cord & Tish\n",
       "391                   Aliens Love Underpants And�\n",
       "392               Gina Brillon: The Floor is Lava\n",
       "394                                  Murphy Brown\n",
       "395                           The Best of Groucho\n",
       "Name: Name of the show, Length: 355, dtype: object"
      ]
     },
     "execution_count": 44,
     "metadata": {},
     "output_type": "execute_result"
    }
   ],
   "source": [
    "amazon[\"Name of the show\"][amazon.Language.isin([\"English\",\"Hindi\"])] \n",
    "#tvshows of english and hindi"
   ]
  },
  {
   "cell_type": "code",
   "execution_count": 46,
   "id": "1ca62938",
   "metadata": {},
   "outputs": [
    {
     "data": {
      "text/plain": [
       "2      The Marvelous Mrs. Maisel\n",
       "3         Four More Shots Please\n",
       "4                        Fleabag\n",
       "6                     Homecoming\n",
       "10                    Comicstaan\n",
       "                 ...            \n",
       "380       LOL: Last one Laughing\n",
       "382          A New Kind Of Magic\n",
       "383              The Real McCoys\n",
       "386       Gattu- The Power Champ\n",
       "387               Still Standing\n",
       "Name: Name of the show, Length: 201, dtype: object"
      ]
     },
     "execution_count": 46,
     "metadata": {},
     "output_type": "execute_result"
    }
   ],
   "source": [
    "#checking for how many tvshows have how many seasons available\n",
    "amazon[\"Name of the show\"][amazon[\"No of seasons available\"] >= 2]"
   ]
  },
  {
   "cell_type": "code",
   "execution_count": 48,
   "id": "3eea4973",
   "metadata": {},
   "outputs": [
    {
     "data": {
      "text/plain": [
       "0                           Pataal Lok\n",
       "1                               Upload\n",
       "5                       Made in Heaven\n",
       "7                             Mirzapur\n",
       "8                       The Family Man\n",
       "                    ...               \n",
       "391        Aliens Love Underpants And�\n",
       "392    Gina Brillon: The Floor is Lava\n",
       "393              Businessmen VS Aliens\n",
       "394                       Murphy Brown\n",
       "395                The Best of Groucho\n",
       "Name: Name of the show, Length: 195, dtype: object"
      ]
     },
     "execution_count": 48,
     "metadata": {},
     "output_type": "execute_result"
    }
   ],
   "source": [
    "amazon[\"Name of the show\"][amazon[\"No of seasons available\"] == 1]"
   ]
  },
  {
   "cell_type": "code",
   "execution_count": 49,
   "id": "95929feb",
   "metadata": {},
   "outputs": [
    {
     "data": {
      "text/plain": [
       "<AxesSubplot:xlabel='count', ylabel='No of seasons available'>"
      ]
     },
     "execution_count": 49,
     "metadata": {},
     "output_type": "execute_result"
    },
    {
     "data": {
      "image/png": "[encoded data removed]",
      "text/plain": [
       "<Figure size 432x288 with 1 Axes>"
      ]
     },
     "metadata": {},
     "output_type": "display_data"
    }
   ],
   "source": [
    "sns.set_style('white')\n",
    "sns.countplot(y=\"No of seasons available\", data=amazon,\n",
    "              order=amazon[\"No of seasons available\"].value_counts().iloc[:5].index)"
   ]
  },
  {
   "cell_type": "markdown",
   "id": "25943fa0",
   "metadata": {},
   "source": [
    "# Satya sumant"
   ]
  },
  {
   "cell_type": "code",
   "execution_count": null,
   "id": "a75d6ee3",
   "metadata": {},
   "outputs": [],
   "source": []
  }
 ],
 "metadata": {
  "kernelspec": {
   "display_name": "Python 3",
   "language": "python",
   "name": "python3"
  },
  "language_info": {
   "codemirror_mode": {
    "name": "ipython",
    "version": 3
   },
   "file_extension": ".py",
   "mimetype": "text/x-python",
   "name": "python",
   "nbconvert_exporter": "python",
   "pygments_lexer": "ipython3",
   "version": "3.8.8"
  }
 },
 "nbformat": 4,
 "nbformat_minor": 5
}
